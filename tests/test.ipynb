{
 "cells": [
  {
   "cell_type": "code",
   "execution_count": 26,
   "metadata": {},
   "outputs": [
    {
     "name": "stdout",
     "output_type": "stream",
     "text": [
      "-1\n"
     ]
    }
   ],
   "source": [
    "import sys\n",
    "import itertools\n",
    "\n",
    "#input_data = input().split()\n",
    "input_data = \"4 2 5\".split()\n",
    "input_data = [int(x) for x in input_data]\n",
    "A = input_data[0]\n",
    "B = input_data[1]\n",
    "C = input_data[2]\n",
    "\n",
    "def cal(input_data=input_data, A=A, B=B, C=C):\n",
    "    if (A == 0) and (B == 0) and (C == 0):\n",
    "        result = 0\n",
    "        return result\n",
    "    \n",
    "    if (A == B) and (B == C) and (A > 0):\n",
    "        result = int(3 * A / 3)\n",
    "        return result\n",
    "    \n",
    "    \n",
    "    abc_max = max(input_data)\n",
    "    abc_min_median = sum(list(filter(lambda x: x != max(input_data), input_data)))\n",
    "    if (abs(abc_max - abc_min_median) > 2):\n",
    "        result = -1\n",
    "        return result\n",
    "    \n",
    "    r = 0\n",
    "    result = float(\"inf\")\n",
    "    rg = [2, 3]\n",
    "    \n",
    "    for i, j, k in itertools.product(rg, rg, rg):\n",
    "        a_result = A % i\n",
    "        b_result = B % j\n",
    "        c_result = C % k\n",
    "        a_div = A / i\n",
    "        b_div = B / j\n",
    "        c_div = C / k\n",
    "        r = int(a_div + b_div + c_div)\n",
    "        if (a_result == 0) and (b_result == 0) and (c_result == 0) and (A > 0 and B > 0 and C > 0) and (result > r):\n",
    "            result = r\n",
    "    \n",
    "    if result == float(\"inf\"):\n",
    "        result = -1\n",
    "    \n",
    "    return result\n",
    "\n",
    "result = cal()\n",
    "print(result)"
   ]
  },
  {
   "cell_type": "code",
   "execution_count": 16,
   "metadata": {},
   "outputs": [
    {
     "data": {
      "text/plain": [
       "66"
      ]
     },
     "execution_count": 16,
     "metadata": {},
     "output_type": "execute_result"
    }
   ],
   "source": [
    "import math\n",
    "from functools import reduce\n",
    "\n",
    "def my_lcm_base(x, y):\n",
    "    return (x * y) // math.gcd(x, y)\n",
    "\n",
    "def my_lcm(*numbers):\n",
    "    return reduce(my_lcm_base, numbers, 1)\n",
    "\n",
    "#print(math.gcd(2, 2, 3))\n",
    "my_lcm(22, 22, 33)"
   ]
  },
  {
   "cell_type": "code",
   "execution_count": 20,
   "metadata": {},
   "outputs": [
    {
     "ename": "ZeroDivisionError",
     "evalue": "integer division or modulo by zero",
     "output_type": "error",
     "traceback": [
      "\u001b[1;31m---------------------------------------------------------------------------\u001b[0m",
      "\u001b[1;31mZeroDivisionError\u001b[0m                         Traceback (most recent call last)",
      "\u001b[1;32mC:\\Users\\G6704~1.YAM\\AppData\\Local\\Temp/ipykernel_26556/827177049.py\u001b[0m in \u001b[0;36m<module>\u001b[1;34m\u001b[0m\n\u001b[1;32m----> 1\u001b[1;33m \u001b[1;36m2\u001b[0m\u001b[1;33m%\u001b[0m\u001b[1;36m0\u001b[0m\u001b[1;33m\u001b[0m\u001b[1;33m\u001b[0m\u001b[0m\n\u001b[0m",
      "\u001b[1;31mZeroDivisionError\u001b[0m: integer division or modulo by zero"
     ]
    }
   ],
   "source": []
  },
  {
   "cell_type": "code",
   "execution_count": null,
   "metadata": {},
   "outputs": [],
   "source": []
  }
 ],
 "metadata": {
  "kernelspec": {
   "display_name": "Python 3.8.10 ('auto-pip')",
   "language": "python",
   "name": "python3"
  },
  "language_info": {
   "codemirror_mode": {
    "name": "ipython",
    "version": 3
   },
   "file_extension": ".py",
   "mimetype": "text/x-python",
   "name": "python",
   "nbconvert_exporter": "python",
   "pygments_lexer": "ipython3",
   "version": "3.8.10"
  },
  "orig_nbformat": 4,
  "vscode": {
   "interpreter": {
    "hash": "ccdcea637d9e45b6c309dbd9e15fcd673a57abddfd4001f567a038023b0521f4"
   }
  }
 },
 "nbformat": 4,
 "nbformat_minor": 2
}
